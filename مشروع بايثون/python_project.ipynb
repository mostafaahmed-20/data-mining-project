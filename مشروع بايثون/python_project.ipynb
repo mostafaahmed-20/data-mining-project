{
 "cells": [
  {
   "cell_type": "code",
   "execution_count": 3,
   "metadata": {},
   "outputs": [
    {
     "ename": "SyntaxError",
     "evalue": "invalid syntax (<ipython-input-3-67d3683907ca>, line 6)",
     "output_type": "error",
     "traceback": [
      "\u001b[1;36m  File \u001b[1;32m\"<ipython-input-3-67d3683907ca>\"\u001b[1;36m, line \u001b[1;32m6\u001b[0m\n\u001b[1;33m    x_train, x_test, y_train, y_test = train_test_split(x,y,test_size=0.2, random state=1)\u001b[0m\n\u001b[1;37m                                                                                  ^\u001b[0m\n\u001b[1;31mSyntaxError\u001b[0m\u001b[1;31m:\u001b[0m invalid syntax\n"
     ]
    }
   ],
   "source": [
    "import Pandas as pd\n",
    "data=pd.read_csc(r'C:\\Users\\android\\Desktop\\مشروع بايثون\\diabetes2.csv')\n",
    "x=data.drop('outcome',1)\n",
    "y=data(\"outcome\")\n",
    "from sklearn.model_selection import train_test_split\n",
    "x_train, x_test, y_train, y_test = train_test_split(x,y,test_size=0.2, random state=1)\n",
    "\n",
    "\n",
    "from sklearn.neural_network import MLPCLassifier\n",
    "model=MLPCLassifier(hidden_layer_sizes=(8,8,8),activation=\"logistic\",learnin\n",
    "model.fit(x_train,y_train)\n",
    "predict=model.predict(x_test)\n",
    "from sklearn.matrics import accuracy_score\n",
    "acc=accuracy_score(predict,y_test)\n",
    "print(acc)\n",
    "from sklearn.matrics import confusion_matrix\n",
    "conf = confusion_mattrix(predict,y_test)\n",
    "print(conf)                    "
   ]
  },
  {
   "cell_type": "code",
   "execution_count": null,
   "metadata": {},
   "outputs": [],
   "source": []
  },
  {
   "cell_type": "code",
   "execution_count": null,
   "metadata": {},
   "outputs": [],
   "source": []
  }
 ],
 "metadata": {
  "kernelspec": {
   "display_name": "Python 3",
   "language": "python",
   "name": "python3"
  },
  "language_info": {
   "codemirror_mode": {
    "name": "ipython",
    "version": 3
   },
   "file_extension": ".py",
   "mimetype": "text/x-python",
   "name": "python",
   "nbconvert_exporter": "python",
   "pygments_lexer": "ipython3",
   "version": "3.8.5"
  }
 },
 "nbformat": 4,
 "nbformat_minor": 4
}
